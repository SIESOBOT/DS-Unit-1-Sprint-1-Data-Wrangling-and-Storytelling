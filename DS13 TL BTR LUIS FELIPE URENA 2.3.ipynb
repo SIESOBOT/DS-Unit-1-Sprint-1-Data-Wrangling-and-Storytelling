{
  "nbformat": 4,
  "nbformat_minor": 0,
  "metadata": {
    "colab": {
      "name": "Copy of LS_DS_123_Introduction_to_Bayesian_Inference_Assignment.ipynb",
      "provenance": [],
      "include_colab_link": true
    },
    "kernelspec": {
      "name": "python3",
      "display_name": "Python 3"
    }
  },
  "cells": [
    {
      "cell_type": "markdown",
      "metadata": {
        "id": "view-in-github",
        "colab_type": "text"
      },
      "source": [
        "<a href=\"https://colab.research.google.com/github/SIESOBOT/DS-Unit-1-Sprint-1-Data-Wrangling-and-Storytelling/blob/master/DS13%20TL%20BTR%20LUIS%20FELIPE%20URENA%202.3.ipynb\" target=\"_parent\"><img src=\"https://colab.research.google.com/assets/colab-badge.svg\" alt=\"Open In Colab\"/></a>"
      ]
    },
    {
      "cell_type": "markdown",
      "metadata": {
        "id": "H7OLbevlbd_Z",
        "colab_type": "text"
      },
      "source": [
        "# Lambda School Data Science Module 123\n",
        "\n",
        "## Introduction to Bayesian Inference\n",
        "\n",
        "\n"
      ]
    },
    {
      "cell_type": "markdown",
      "metadata": {
        "id": "P-DzzRk5bf0z",
        "colab_type": "text"
      },
      "source": [
        "## Assignment - Code it up!\n",
        "\n",
        "We used pure math to apply Bayes Theorem to drug tests. Now write Python code to reproduce the results! This is purposefully open ended - you'll have to think about how you should represent probabilities and events. You can and should look things up.\n",
        "\n",
        "Specific goals/targets:\n",
        "\n",
        "### 1) Write a function \n",
        "\n",
        "`def prob_drunk_given_positive(prob_drunk_prior, false_positive_rate):` \n",
        "\n",
        "You should only truly need these two values in order to apply Bayes Theorem. In this example, imagine that individuals are taking a breathalyzer test with an 8% false positive rate, a 100% true positive rate, and that our prior belief about drunk driving in the population is 1/1000. \n",
        " - What is the probability that a person is drunk after one positive breathalyzer test?\n",
        " - What is the probability that a person is drunk after two positive breathalyzer tests?\n",
        " - How many positive breathalyzer tests are needed in order to have a probability that's greater than 95% that a person is drunk beyond the legal limit?\n",
        "\n",
        "### 2) Explore `scipy.stats.bayes_mvs`  \n",
        "Read its documentation, and experiment with it on data you've tested in other ways earlier this week.\n",
        " - Create a visualization comparing the results of a Bayesian approach to a traditional/frequentist approach. (with a large sample size they should look close to identical, however, take this opportunity to practice visualizing condfidence intervals in general. The following are some potential ways that you could visualize confidence intervals on your graph:\n",
        "  - [Matplotlib Error Bars](https://matplotlib.org/3.1.1/api/_as_gen/matplotlib.pyplot.errorbar.html)\n",
        "  - [Seaborn barplot with error bars](https://seaborn.pydata.org/generated/seaborn.barplot.html)\n",
        "  - [Vertical ines to show bounds of confidence interval](https://www.simplypsychology.org/confidence-interval.jpg)\n",
        "  - [Confidence Intervals on Box Plots](https://matplotlib.org/3.1.1/api/_as_gen/matplotlib.axes.Axes.boxplot.html)\n",
        "\n",
        "### 3) In your own words, summarize the difference between Bayesian and Frequentist statistics\n",
        "\n",
        "If you're unsure where to start, check out [this blog post of Bayes theorem with Python](https://dataconomy.com/2015/02/introduction-to-bayes-theorem-with-python/).\n",
        "\n"
      ]
    },
    {
      "cell_type": "code",
      "metadata": {
        "id": "xpVhZyUnbf7o",
        "colab_type": "code",
        "colab": {}
      },
      "source": [
        "# TODO - code!\n",
        "import numpy as np\n",
        "import pandas as pd\n",
        "from scipy import stats\n"
      ],
      "execution_count": 0,
      "outputs": []
    },
    {
      "cell_type": "code",
      "metadata": {
        "id": "BXTvtdtvJhcW",
        "colab_type": "code",
        "colab": {}
      },
      "source": [
        "def prob_drunk_given_positive(prob_drunk_prior, false_positive_rate):\n",
        " p_non_user = 1 - prob_drunk_prior\n",
        " numerator = 1 * prob_drunk_prior\n",
        " denominatior = 1 * (prob_drunk_prior) + (false_positive_rate) * p_non_user\n",
        " result = numerator / denominatior\n",
        " return result"
      ],
      "execution_count": 0,
      "outputs": []
    },
    {
      "cell_type": "code",
      "metadata": {
        "id": "YuCMylJNOFMe",
        "colab_type": "code",
        "colab": {
          "base_uri": "https://localhost:8080/",
          "height": 34
        },
        "outputId": "9abea1ad-266d-45eb-e64b-67497f027915"
      },
      "source": [
        "#this is the probabilty of bob being drunk from the first test\n",
        "prob_drunk_given_positive(1/1000,0.08)"
      ],
      "execution_count": 13,
      "outputs": [
        {
          "output_type": "execute_result",
          "data": {
            "text/plain": [
              "0.012357884330202669"
            ]
          },
          "metadata": {
            "tags": []
          },
          "execution_count": 13
        }
      ]
    },
    {
      "cell_type": "code",
      "metadata": {
        "id": "t8FJSMV1Ogh0",
        "colab_type": "code",
        "colab": {
          "base_uri": "https://localhost:8080/",
          "height": 34
        },
        "outputId": "155e27b2-6b15-410f-8340-2c3b74a79994"
      },
      "source": [
        "#this is the probability of bob being drunk after the 2nd test\n",
        "prob_drunk_given_positive(0.123,0.08)"
      ],
      "execution_count": 14,
      "outputs": [
        {
          "output_type": "execute_result",
          "data": {
            "text/plain": [
              "0.6367778007869124"
            ]
          },
          "metadata": {
            "tags": []
          },
          "execution_count": 14
        }
      ]
    },
    {
      "cell_type": "code",
      "metadata": {
        "id": "Qy5-9McKOp1L",
        "colab_type": "code",
        "colab": {
          "base_uri": "https://localhost:8080/",
          "height": 34
        },
        "outputId": "a5822cc2-da60-4e95-a85a-15fe1948955d"
      },
      "source": [
        "#this is the probability of bob being drunk after the 3rd test (just one more to make sure)\n",
        "prob_drunk_given_positive(0.636,0.08)"
      ],
      "execution_count": 15,
      "outputs": [
        {
          "output_type": "execute_result",
          "data": {
            "text/plain": [
              "0.9562184267500601"
            ]
          },
          "metadata": {
            "tags": []
          },
          "execution_count": 15
        }
      ]
    },
    {
      "cell_type": "code",
      "metadata": {
        "id": "r6TmizRTOwqI",
        "colab_type": "code",
        "colab": {
          "base_uri": "https://localhost:8080/",
          "height": 34
        },
        "outputId": "ff99c915-299f-4976-d3c2-3f296379c8a2"
      },
      "source": [
        "#this is the probabilty of bob being drunk after the 4th test (yep, he is wated)\n",
        "prob_drunk_given_positive(0.956,0.08)"
      ],
      "execution_count": 16,
      "outputs": [
        {
          "output_type": "execute_result",
          "data": {
            "text/plain": [
              "0.9963314990828748"
            ]
          },
          "metadata": {
            "tags": []
          },
          "execution_count": 16
        }
      ]
    },
    {
      "cell_type": "markdown",
      "metadata": {
        "id": "enHhC13APGS-",
        "colab_type": "text"
      },
      "source": [
        "# It took 4 tests to make sure bob was drunk!"
      ]
    },
    {
      "cell_type": "code",
      "metadata": {
        "id": "WF3iRe-bQ5X8",
        "colab_type": "code",
        "colab": {}
      },
      "source": [
        "?stats.bayes_mvs()"
      ],
      "execution_count": 0,
      "outputs": []
    },
    {
      "cell_type": "code",
      "metadata": {
        "id": "ih4B4SixdyMv",
        "colab_type": "code",
        "colab": {}
      },
      "source": [
        "wine = pd.read_csv('winequality-white.csv',sep=';')\n",
        "\n"
      ],
      "execution_count": 0,
      "outputs": []
    },
    {
      "cell_type": "code",
      "metadata": {
        "id": "uGv4V2xmlMSW",
        "colab_type": "code",
        "outputId": "3b7d1c46-3169-42b1-a250-e7df4f65f8fc",
        "colab": {
          "base_uri": "https://localhost:8080/",
          "height": 254
        }
      },
      "source": [
        "wine['alcohol_ranges'] = pd.cut(wine.alcohol,5,labels=['1-3','3-6','6-9','9-12','12-15'])\n",
        "wine['quality_ranges'] = pd.cut(wine.quality,3,labels=['1-3','3-6','6-9'])\n",
        "contingency_table =  pd.crosstab(wine['alcohol_ranges'],wine['quality_ranges'],margins=True)\n",
        "contingency_table"
      ],
      "execution_count": 25,
      "outputs": [
        {
          "output_type": "execute_result",
          "data": {
            "text/html": [
              "<div>\n",
              "<style scoped>\n",
              "    .dataframe tbody tr th:only-of-type {\n",
              "        vertical-align: middle;\n",
              "    }\n",
              "\n",
              "    .dataframe tbody tr th {\n",
              "        vertical-align: top;\n",
              "    }\n",
              "\n",
              "    .dataframe thead th {\n",
              "        text-align: right;\n",
              "    }\n",
              "</style>\n",
              "<table border=\"1\" class=\"dataframe\">\n",
              "  <thead>\n",
              "    <tr style=\"text-align: right;\">\n",
              "      <th>quality_ranges</th>\n",
              "      <th>1-3</th>\n",
              "      <th>3-6</th>\n",
              "      <th>6-9</th>\n",
              "      <th>All</th>\n",
              "    </tr>\n",
              "    <tr>\n",
              "      <th>alcohol_ranges</th>\n",
              "      <th></th>\n",
              "      <th></th>\n",
              "      <th></th>\n",
              "      <th></th>\n",
              "    </tr>\n",
              "  </thead>\n",
              "  <tbody>\n",
              "    <tr>\n",
              "      <th>1-3</th>\n",
              "      <td>451</td>\n",
              "      <td>376</td>\n",
              "      <td>18</td>\n",
              "      <td>845</td>\n",
              "    </tr>\n",
              "    <tr>\n",
              "      <th>3-6</th>\n",
              "      <td>810</td>\n",
              "      <td>908</td>\n",
              "      <td>12</td>\n",
              "      <td>1730</td>\n",
              "    </tr>\n",
              "    <tr>\n",
              "      <th>6-9</th>\n",
              "      <td>323</td>\n",
              "      <td>1020</td>\n",
              "      <td>47</td>\n",
              "      <td>1390</td>\n",
              "    </tr>\n",
              "    <tr>\n",
              "      <th>9-12</th>\n",
              "      <td>51</td>\n",
              "      <td>659</td>\n",
              "      <td>85</td>\n",
              "      <td>795</td>\n",
              "    </tr>\n",
              "    <tr>\n",
              "      <th>12-15</th>\n",
              "      <td>5</td>\n",
              "      <td>115</td>\n",
              "      <td>18</td>\n",
              "      <td>138</td>\n",
              "    </tr>\n",
              "    <tr>\n",
              "      <th>All</th>\n",
              "      <td>1640</td>\n",
              "      <td>3078</td>\n",
              "      <td>180</td>\n",
              "      <td>4898</td>\n",
              "    </tr>\n",
              "  </tbody>\n",
              "</table>\n",
              "</div>"
            ],
            "text/plain": [
              "quality_ranges   1-3   3-6  6-9   All\n",
              "alcohol_ranges                       \n",
              "1-3              451   376   18   845\n",
              "3-6              810   908   12  1730\n",
              "6-9              323  1020   47  1390\n",
              "9-12              51   659   85   795\n",
              "12-15              5   115   18   138\n",
              "All             1640  3078  180  4898"
            ]
          },
          "metadata": {
            "tags": []
          },
          "execution_count": 25
        }
      ]
    },
    {
      "cell_type": "code",
      "metadata": {
        "id": "kDOzS6lgW390",
        "colab_type": "code",
        "colab": {}
      },
      "source": [
        "sample = wine['quality'].sample(100)\n",
        "\n",
        "mean, var, std = stats.bayes_mvs(sample)"
      ],
      "execution_count": 0,
      "outputs": []
    },
    {
      "cell_type": "code",
      "metadata": {
        "id": "uwAazM_DeE79",
        "colab_type": "code",
        "colab": {
          "base_uri": "https://localhost:8080/",
          "height": 34
        },
        "outputId": "ac3adf25-64f1-48cb-b52b-1f5ec6b81760"
      },
      "source": [
        "mean"
      ],
      "execution_count": 29,
      "outputs": [
        {
          "output_type": "execute_result",
          "data": {
            "text/plain": [
              "Mean(statistic=5.8, minmax=(5.647055995446235, 5.952944004553765))"
            ]
          },
          "metadata": {
            "tags": []
          },
          "execution_count": 29
        }
      ]
    },
    {
      "cell_type": "code",
      "metadata": {
        "id": "4UEz6JKDeJGo",
        "colab_type": "code",
        "colab": {
          "base_uri": "https://localhost:8080/",
          "height": 34
        },
        "outputId": "ca389f62-5a15-48ec-ed33-773065c2e534"
      },
      "source": [
        "var"
      ],
      "execution_count": 30,
      "outputs": [
        {
          "output_type": "execute_result",
          "data": {
            "text/plain": [
              "Variance(statistic=0.865979381443299, minmax=(0.6816786288494702, 1.0902530719896666))"
            ]
          },
          "metadata": {
            "tags": []
          },
          "execution_count": 30
        }
      ]
    },
    {
      "cell_type": "code",
      "metadata": {
        "id": "axj6cfbGeMoy",
        "colab_type": "code",
        "colab": {
          "base_uri": "https://localhost:8080/",
          "height": 34
        },
        "outputId": "c2045206-8887-46a9-ece4-7ef62dcdac1f"
      },
      "source": [
        "std"
      ],
      "execution_count": 31,
      "outputs": [
        {
          "output_type": "execute_result",
          "data": {
            "text/plain": [
              "Std_dev(statistic=0.9281848597009937, minmax=(0.8256383160013047, 1.0441518433588415))"
            ]
          },
          "metadata": {
            "tags": []
          },
          "execution_count": 31
        }
      ]
    },
    {
      "cell_type": "code",
      "metadata": {
        "id": "qrRzLxM1f4q3",
        "colab_type": "code",
        "colab": {
          "base_uri": "https://localhost:8080/",
          "height": 269
        },
        "outputId": "591b34be-5bb0-47f8-d9ba-c49474ac35c3"
      },
      "source": [
        "samples = stats.norm.rvs(size=100)\n",
        "qual_mean, qual_res, qual_std = stats.bayes_mvs(samples,alpha=0.95)\n",
        "\n",
        "import matplotlib.pyplot as plt\n",
        "fig = plt.figure()\n",
        "ax = fig.add_subplot()\n",
        "ax.hist(samples,bins=100,density=True,label='Histogram of the quality sample')\n",
        "ax.vlines(qual_mean.statistic,0,0.5,colors='r',label='estimated mean')\n",
        "ax.axvspan(qual_mean.minmax[0],qual_mean.minmax[1],facecolor='r',\n",
        "alpha = 0.2, label='estimated mean(95% limits)')\n",
        "ax.vlines(qual_std.statistic,0,0.5, colors='g',label='estimated scale')\n",
        "ax.axvspan(qual_std.minmax[0],qual_std.minmax[1],facecolor='g',alpha=0.2 ,label='estimated scale(95% limits)')\n",
        "ax.legend(fontsize=10)\n",
        "ax.set_xlim([-4, 4])\n",
        "ax.set_ylim([0,0.5])\n",
        "plt.show()\n"
      ],
      "execution_count": 40,
      "outputs": [
        {
          "output_type": "display_data",
          "data": {
            "image/png": "[encoded data removed]",
            "text/plain": [
              "<Figure size 432x288 with 1 Axes>"
            ]
          },
          "metadata": {
            "tags": []
          }
        }
      ]
    },
    {
      "cell_type": "markdown",
      "metadata": {
        "id": "8K7fN0_DnXqc",
        "colab_type": "text"
      },
      "source": [
        "# diference between bayesian and frequentist statistics\n",
        "*in my opinion, the frequentists approach is more dependent of the*\n",
        "*frequency of the samples being analized , while a bayesian approach can come to a conclusion without having a big sample size of a population*"
      ]
    },
    {
      "cell_type": "markdown",
      "metadata": {
        "id": "uWgWjp3PQ3Sq",
        "colab_type": "text"
      },
      "source": [
        "## Resources"
      ]
    },
    {
      "cell_type": "markdown",
      "metadata": {
        "id": "QRgHqmYIQ9qn",
        "colab_type": "text"
      },
      "source": [
        "- [Worked example of Bayes rule calculation](https://en.wikipedia.org/wiki/Bayes'_theorem#Examples) (helpful as it fully breaks out the denominator)\n",
        "- [Source code for mvsdist in scipy](https://github.com/scipy/scipy/blob/90534919e139d2a81c24bf08341734ff41a3db12/scipy/stats/morestats.py#L139)"
      ]
    },
    {
      "cell_type": "markdown",
      "metadata": {
        "id": "GP7Jv1XvwtkX",
        "colab_type": "text"
      },
      "source": [
        "## Stretch Goals:\n",
        "\n",
        "- Go back and study the content from Modules 1 & 2 to make sure that you're really comfortable with them.\n",
        "- Apply a Bayesian technique to a problem you previously worked (in an assignment or project work) on from a frequentist (standard) perspective\n",
        "- Check out [PyMC3](https://docs.pymc.io/) (note this goes beyond hypothesis tests into modeling) - read the guides and work through some examples\n",
        "- Take PyMC3 further - see if you can build something with it!"
      ]
    },
    {
      "cell_type": "code",
      "metadata": {
        "id": "iDi0eFr1x-v_",
        "colab_type": "code",
        "colab": {}
      },
      "source": [
        ""
      ],
      "execution_count": 0,
      "outputs": []
    }
  ]
}